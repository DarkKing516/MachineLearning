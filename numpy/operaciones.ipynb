{
 "cells": [
  {
   "cell_type": "code",
   "execution_count": null,
   "metadata": {},
   "outputs": [],
   "source": [
    "import numpy as np"
   ]
  },
  {
   "cell_type": "code",
   "execution_count": null,
   "metadata": {},
   "outputs": [],
   "source": []
  },
  {
   "cell_type": "code",
   "execution_count": null,
   "metadata": {},
   "outputs": [],
   "source": [
    "ceros = np.zeros(8)\n",
    "unos = np.ones(5)\n",
    "matrizIdentidad = np.eye(3)\n",
    "aleatorio = np.random.rand(3,3)\n",
    "print(ceros)\n",
    "print(unos)\n",
    "print(matrizIdentidad)"
   ]
  },
  {
   "cell_type": "code",
   "execution_count": null,
   "metadata": {},
   "outputs": [],
   "source": [
    "cubo = np.array([[[2, 4, 6], [2, 4, 6], [2, 4, 6]],\n",
    "                 [[2, 4, 6], [2, 4, 6], [2, 4, 6]],\n",
    "                 [[2, 4, 6], [2, 4, 6], [2, 4, 6]]])\n",
    "\n",
    "print(cubo)\n",
    "\n",
    "cubo = np.ones((3, 3, 3))\n",
    "print(cubo)"
   ]
  },
  {
   "cell_type": "code",
   "execution_count": null,
   "metadata": {},
   "outputs": [],
   "source": [
    "vector1 = np.array([2,4,6])\n",
    "vector2 = np.array([8,3,1])\n",
    "\n",
    "sumavectores = vector1 + vector2\n",
    "\n",
    "print(sumavectores)"
   ]
  },
  {
   "cell_type": "code",
   "execution_count": null,
   "metadata": {},
   "outputs": [],
   "source": [
    "matriz1 = np.array(([2,3],[4,5],[6,7]))\n",
    "\n",
    "matriz2 = np.array(([8,9],[10,11],[12,13]))\n",
    "resultado = matriz1 + matriz2\n",
    "\n",
    "print(resultado)"
   ]
  }
 ],
 "metadata": {
  "kernelspec": {
   "display_name": "Python 3",
   "language": "python",
   "name": "python3"
  },
  "language_info": {
   "name": "python",
   "version": "3.12.3"
  }
 },
 "nbformat": 4,
 "nbformat_minor": 2
}
