{
 "cells": [
  {
   "cell_type": "code",
   "execution_count": 1,
   "metadata": {},
   "outputs": [],
   "source": [
    "import numpy as np"
   ]
  },
  {
   "cell_type": "code",
   "execution_count": null,
   "metadata": {},
   "outputs": [],
   "source": []
  },
  {
   "cell_type": "code",
   "execution_count": 2,
   "metadata": {},
   "outputs": [
    {
     "name": "stdout",
     "output_type": "stream",
     "text": [
      "[0. 0. 0. 0. 0. 0. 0. 0.]\n",
      "[1. 1. 1. 1. 1.]\n",
      "[[1. 0. 0.]\n",
      " [0. 1. 0.]\n",
      " [0. 0. 1.]]\n"
     ]
    }
   ],
   "source": [
    "ceros = np.zeros(8)\n",
    "unos = np.ones(5)\n",
    "matrizIdentidad = np.eye(3)\n",
    "aleatorio = np.random.rand(3,3)\n",
    "print(ceros)\n",
    "print(unos)\n",
    "print(matrizIdentidad)"
   ]
  },
  {
   "cell_type": "code",
   "execution_count": 3,
   "metadata": {},
   "outputs": [
    {
     "name": "stdout",
     "output_type": "stream",
     "text": [
      "[[[2 4 6]\n",
      "  [2 4 6]\n",
      "  [2 4 6]]\n",
      "\n",
      " [[2 4 6]\n",
      "  [2 4 6]\n",
      "  [2 4 6]]\n",
      "\n",
      " [[2 4 6]\n",
      "  [2 4 6]\n",
      "  [2 4 6]]]\n",
      "[[[1. 1. 1.]\n",
      "  [1. 1. 1.]\n",
      "  [1. 1. 1.]]\n",
      "\n",
      " [[1. 1. 1.]\n",
      "  [1. 1. 1.]\n",
      "  [1. 1. 1.]]\n",
      "\n",
      " [[1. 1. 1.]\n",
      "  [1. 1. 1.]\n",
      "  [1. 1. 1.]]]\n"
     ]
    }
   ],
   "source": [
    "cubo = np.array([[[2, 4, 6], [2, 4, 6], [2, 4, 6]],\n",
    "                 [[2, 4, 6], [2, 4, 6], [2, 4, 6]],\n",
    "                 [[2, 4, 6], [2, 4, 6], [2, 4, 6]]])\n",
    "\n",
    "print(cubo)\n",
    "\n",
    "cubo = np.ones((3, 3, 3))\n",
    "print(cubo)"
   ]
  },
  {
   "cell_type": "code",
   "execution_count": 4,
   "metadata": {},
   "outputs": [
    {
     "name": "stdout",
     "output_type": "stream",
     "text": [
      "[10  7  7]\n"
     ]
    }
   ],
   "source": [
    "vector1 = np.array([2,4,6])\n",
    "vector2 = np.array([8,3,1])\n",
    "\n",
    "sumavectores = vector1 + vector2\n",
    "\n",
    "print(sumavectores)"
   ]
  },
  {
   "cell_type": "code",
   "execution_count": 5,
   "metadata": {},
   "outputs": [
    {
     "name": "stdout",
     "output_type": "stream",
     "text": [
      "[[10 12]\n",
      " [14 16]\n",
      " [18 20]]\n"
     ]
    }
   ],
   "source": [
    "matriz1 = np.array(([2,3],[4,5],[6,7]))\n",
    "\n",
    "matriz2 = np.array(([8,9],[10,11],[12,13]))\n",
    "resultado = matriz1 + matriz2\n",
    "\n",
    "print(resultado)"
   ]
  }
 ],
 "metadata": {
  "kernelspec": {
   "display_name": "Python 3",
   "language": "python",
   "name": "python3"
  },
  "language_info": {
   "codemirror_mode": {
    "name": "ipython",
    "version": 3
   },
   "file_extension": ".py",
   "mimetype": "text/x-python",
   "name": "python",
   "nbconvert_exporter": "python",
   "pygments_lexer": "ipython3",
   "version": "3.12.3"
  }
 },
 "nbformat": 4,
 "nbformat_minor": 2
}
