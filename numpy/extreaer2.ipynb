{
 "cells": [
  {
   "cell_type": "code",
   "execution_count": 47,
   "metadata": {},
   "outputs": [],
   "source": [
    "import requests\n",
    "import pandas as pd\n",
    "from bs4 import BeautifulSoup"
   ]
  },
  {
   "cell_type": "code",
   "execution_count": 48,
   "metadata": {},
   "outputs": [],
   "source": [
    "url = \"https://ingdanielbs.github.io/Datos/\"\n",
    "response = requests.get(url)"
   ]
  },
  {
   "cell_type": "code",
   "execution_count": 49,
   "metadata": {},
   "outputs": [],
   "source": [
    "soup = BeautifulSoup(response.content, \"html.parser\")"
   ]
  },
  {
   "cell_type": "code",
   "execution_count": 50,
   "metadata": {},
   "outputs": [],
   "source": [
    "table = soup.find(\"table\")"
   ]
  },
  {
   "cell_type": "code",
   "execution_count": 51,
   "metadata": {},
   "outputs": [],
   "source": [
    "if table is not None:\n",
    "    filas = table.find_all(\"tr\")\n",
    "    data = []\n",
    "    for fila in filas:\n",
    "        columnas = fila.find_all(\"td\")\n",
    "        columnas = [col.text.strip() for col in columnas]\n",
    "        data.append(columnas)\n",
    "    # print(data)\n",
    "    df = pd.DataFrame(data, columns = [\"Documento\", \"Nombre\", \"Apellido\", \"Dirección\", \"Teléfono\", \"Edad\", \"Estatura\"])\n",
    "    # print(df)\n",
    "    df.to_excel(\"datoshtml.xlsx\", index=False)\n",
    "else:\n",
    "    print(\"No se encontró la tabla\")"
   ]
  },
  {
   "cell_type": "code",
   "execution_count": 52,
   "metadata": {},
   "outputs": [
    {
     "name": "stdout",
     "output_type": "stream",
     "text": [
      "        Documento     Nombre  Apellido  \\\n",
      "0    1.153201e+08      Sofia     Gómez   \n",
      "1    1.105102e+09   Santiago  González   \n",
      "2    1.023100e+09  Valentina   Herrera   \n",
      "3    1.208200e+09       Juan     Rojas   \n",
      "4    1.050500e+09   Catalina   Jiménez   \n",
      "..            ...        ...       ...   \n",
      "290  1.645679e+09     Isabel  Gonzalez   \n",
      "291  1.656789e+09      Julio     Perez   \n",
      "292  1.667890e+09        Ana  Martinez   \n",
      "293  1.678901e+09      David     Perez   \n",
      "294  1.689012e+09      Sofia    Garcia   \n",
      "\n",
      "                                  Dirección         Teléfono  Edad  Estatura  \\\n",
      "0        Calle 100 #25-26, Bogotá, Colombia  +57 311 2345678  23.0      1.57   \n",
      "1     Carrera 14 #10-20, Medellín, Colombia  +57 317 3456789  19.0      1.75   \n",
      "2      Vereda San José, Girardota, Colombia  +57 312 4567890  16.0      1.63   \n",
      "3    Calle 30 #18-15, Bucaramanga, Colombia  +57 320 5678901  17.0      1.80   \n",
      "4          Avenida 5 #23-45, Cali, Colombia  +57 319 6789012  15.0      1.64   \n",
      "..                                      ...              ...   ...       ...   \n",
      "290                         Av. Bolívar 789          3478901  16.0      1.62   \n",
      "291                           El Bosque 234          3123456  18.0      1.80   \n",
      "292                           Carrera 7 567          3289012  17.0      1.65   \n",
      "293               Barrio Las Margaritas 123          3256789  16.0      1.80   \n",
      "294                          Carrera 10 456          3478901  17.0      1.68   \n",
      "\n",
      "    Área de residencia Tipo colegio     Género  Estrato  Nota Matemáticas  \\\n",
      "0               Urbana      Público   Femenino        3                 1   \n",
      "1               Urbana      Privado  Masculino        4                 5   \n",
      "2                Rural      Público   Femenino        1                 3   \n",
      "3               Urbana      Público  Masculino        2                 2   \n",
      "4               Urbana      Privado   Femenino        4                 4   \n",
      "..                 ...          ...        ...      ...               ...   \n",
      "290             Urbana      Público   Femenino        4                 4   \n",
      "291              Rural      Privado  Masculino        5                 5   \n",
      "292             Urbana      Público   Femenino        2                 3   \n",
      "293               Urba      Privado  Masculino        3                 3   \n",
      "294             Urbana      Privado   Femenino        4                 4   \n",
      "\n",
      "     Nota Lecto Escritura Apoyo económico de padres  Último grado cursando  \n",
      "0                       3                        No                     11  \n",
      "1                       4                        Sí                     11  \n",
      "2                       2                        Sí                      9  \n",
      "3                       2                        No                     10  \n",
      "4                       5                        Sí                     10  \n",
      "..                    ...                       ...                    ...  \n",
      "290                     4                        Si                     11  \n",
      "291                     5                        Si                     11  \n",
      "292                     3                        No                     10  \n",
      "293                     3                        Si                     10  \n",
      "294                     4                        Si                     11  \n",
      "\n",
      "[295 rows x 15 columns]\n"
     ]
    }
   ],
   "source": [
    "datoshtml = pd.read_excel(\"datoshtml.xlsx\")\n",
    "datos_pdf = pd.read_excel(\"Titulo.xlsx\")\n",
    "# datos_unidos = pd.merge(datoshtml, datos_pdf, on='Documento')\n",
    "datos_unidos = pd.merge(datoshtml, datos_pdf[['Documento', 'Área de residencia', 'Tipo colegio', 'Género', 'Estrato', 'Nota Matemáticas', 'Nota Lecto Escritura', 'Apoyo económico de padres', 'Último grado cursando']], on='Documento')\n",
    "print(datos_unidos)"
   ]
  },
  {
   "cell_type": "code",
   "execution_count": 53,
   "metadata": {},
   "outputs": [],
   "source": [
    "datos_unidos.to_excel(\"Datos_unidos.xlsx\")"
   ]
  }
 ],
 "metadata": {
  "kernelspec": {
   "display_name": "Python 3",
   "language": "python",
   "name": "python3"
  },
  "language_info": {
   "codemirror_mode": {
    "name": "ipython",
    "version": 3
   },
   "file_extension": ".py",
   "mimetype": "text/x-python",
   "name": "python",
   "nbconvert_exporter": "python",
   "pygments_lexer": "ipython3",
   "version": "3.12.3"
  }
 },
 "nbformat": 4,
 "nbformat_minor": 2
}
