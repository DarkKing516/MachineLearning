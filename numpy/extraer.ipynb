{
 "cells": [
  {
   "cell_type": "code",
   "execution_count": 78,
   "metadata": {},
   "outputs": [],
   "source": [
    "import PyPDF2\n",
    "import openpyxl"
   ]
  },
  {
   "cell_type": "code",
   "execution_count": 79,
   "metadata": {},
   "outputs": [],
   "source": [
    "excel = openpyxl.Workbook()"
   ]
  },
  {
   "cell_type": "code",
   "execution_count": 80,
   "metadata": {},
   "outputs": [],
   "source": [
    "hoja = excel.active"
   ]
  },
  {
   "cell_type": "code",
   "execution_count": 81,
   "metadata": {},
   "outputs": [],
   "source": [
    "hoja['A1']='Documento'\n",
    "hoja['B1']='Nombre'\n",
    "hoja['C1']='Apellido'\n",
    "hoja['D1']='Área de residencia'\n",
    "hoja['E1']='Tipo colegio'\n",
    "hoja['F1']='Género'\n",
    "hoja['G1']='Estrato'\n",
    "hoja['H1']='Nota Matemáticas'\n",
    "hoja['I1']='Nota Lecto Escritura'\n",
    "hoja['J1']='Apoyo económico de padres'\n",
    "hoja['K1']='Último grado cursando'"
   ]
  },
  {
   "cell_type": "code",
   "execution_count": 82,
   "metadata": {},
   "outputs": [],
   "source": [
    "with open('Datosaprendices.pdf', 'rb') as filepdf:\n",
    "    pdfreader=PyPDF2.PdfReader(filepdf)\n",
    "\n",
    "    numpaginas=len(pdfreader.pages)\n",
    "\n",
    "    for pagina in range(numpaginas):\n",
    "        page=pdfreader.pages[pagina]\n",
    "        texto = page.extract_text()\n",
    "        matriz = texto.split()\n",
    "\n",
    "        fila = hoja.max_row + 1\n",
    "\n",
    "        for i in range(len(matriz)):\n",
    "            if \"Documento\" in matriz[i]:\n",
    "                documento = matriz[i+1]\n",
    "                hoja.cell(row=fila, column=1, value=documento)\n",
    "            if \"Nombre\" in matriz[i]:\n",
    "                nombre = matriz[i+1]\n",
    "                hoja.cell(row=fila, column=2, value=nombre)\n",
    "            if \"Apellido\" in matriz[i]:\n",
    "                apellido = matriz[i+1]\n",
    "                hoja.cell(row=fila, column=3, value=apellido)\n",
    "            if \"residencia\" in matriz[i]:\n",
    "                area = matriz[i+1]\n",
    "                hoja.cell(row=fila, column=4, value=area)\n",
    "            if \"colegio\" in matriz[i]:\n",
    "                tipo = matriz[i+1]\n",
    "                hoja.cell(row=fila, column=5, value=tipo)\n",
    "            if \"Género\" in matriz[i]:\n",
    "                genero = matriz[i+1]\n",
    "                hoja.cell(row=fila, column=6, value=genero)\n",
    "            if \"Estrato\" in matriz[i]:\n",
    "                estrato = matriz[i+1]\n",
    "                hoja.cell(row=fila, column=7, value=estrato)\n",
    "            if \"Matemáticas\" in matriz[i]:\n",
    "                nota = matriz[i+1]\n",
    "                hoja.cell(row=fila, column=8, value=nota)\n",
    "            if \"Escritura\" in matriz[i]:\n",
    "                nota = matriz[i+1]\n",
    "                hoja.cell(row=fila, column=9, value=nota)\n",
    "            if \"padres\" in matriz[i]:\n",
    "                apoyo = matriz[i+1]\n",
    "                hoja.cell(row=fila, column=10, value=apoyo)\n",
    "            if \"cursad\" in matriz[i]:\n",
    "                cursado = matriz[i+2]\n",
    "                hoja.cell(row=fila, column=11, value=cursado)\n",
    "\n",
    "    # print(matriz)"
   ]
  },
  {
   "cell_type": "code",
   "execution_count": 83,
   "metadata": {},
   "outputs": [],
   "source": [
    "excel.save('Titulo.xlsx')"
   ]
  }
 ],
 "metadata": {
  "kernelspec": {
   "display_name": "Python 3",
   "language": "python",
   "name": "python3"
  },
  "language_info": {
   "codemirror_mode": {
    "name": "ipython",
    "version": 3
   },
   "file_extension": ".py",
   "mimetype": "text/x-python",
   "name": "python",
   "nbconvert_exporter": "python",
   "pygments_lexer": "ipython3",
   "version": "3.12.1"
  }
 },
 "nbformat": 4,
 "nbformat_minor": 2
}
