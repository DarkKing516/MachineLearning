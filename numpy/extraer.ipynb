{
 "cells": [
  {
   "cell_type": "code",
   "execution_count": 11,
   "metadata": {},
   "outputs": [],
   "source": [
    "import PyPDF2\n",
    "import openpyxl"
   ]
  },
  {
   "cell_type": "code",
   "execution_count": 12,
   "metadata": {},
   "outputs": [],
   "source": [
    "excel = openpyxl.Workbook()"
   ]
  },
  {
   "cell_type": "code",
   "execution_count": 13,
   "metadata": {},
   "outputs": [],
   "source": [
    "hoja = excel.active"
   ]
  },
  {
   "cell_type": "code",
   "execution_count": 14,
   "metadata": {},
   "outputs": [],
   "source": [
    "hoja['A1']='Documento'\n",
    "hoja['B1']='Nombre'\n",
    "hoja['C1']='Apellido'\n",
    "hoja['D1']='Área de Residencia'\n",
    "hoja['E1']='Tipo Colegio'\n",
    "hoja['F1']='Género'\n",
    "hoja['G1']='Estrato'\n",
    "hoja['H1']='Nota Matematicas'\n",
    "hoja['I1']='Nota Lecto Escritura'\n",
    "hoja['J1']='Apoyo Economico Padres'\n",
    "hoja['K1']='Ultimo Grado Cursando'"
   ]
  },
  {
   "cell_type": "code",
   "execution_count": 15,
   "metadata": {},
   "outputs": [],
   "source": [
    "with open('Datosaprendices.pdf', 'rb') as filepdf:\n",
    "    pdfreader=PyPDF2.PdfReader(filepdf)\n",
    "\n",
    "    numpaginas=len(pdfreader.pages)\n",
    "\n",
    "    for pagina in range(numpaginas):\n",
    "        page=pdfreader.pages[pagina]\n",
    "        texto = page.extract_text()\n",
    "        matriz = texto.split()\n",
    "\n",
    "        fila = hoja.max_row + 1\n",
    "\n",
    "        for i in range(len(matriz)):\n",
    "            if \"Documento\" in matriz[i]:\n",
    "                documento = matriz[i+1]\n",
    "                hoja.cell(row=fila, column=1, value=documento)\n",
    "\n",
    "    # print(matriz)"
   ]
  },
  {
   "cell_type": "code",
   "execution_count": 16,
   "metadata": {},
   "outputs": [],
   "source": [
    "excel.save('Titulo.xlsx')"
   ]
  }
 ],
 "metadata": {
  "kernelspec": {
   "display_name": "Python 3",
   "language": "python",
   "name": "python3"
  },
  "language_info": {
   "codemirror_mode": {
    "name": "ipython",
    "version": 3
   },
   "file_extension": ".py",
   "mimetype": "text/x-python",
   "name": "python",
   "nbconvert_exporter": "python",
   "pygments_lexer": "ipython3",
   "version": "3.12.1"
  }
 },
 "nbformat": 4,
 "nbformat_minor": 2
}
