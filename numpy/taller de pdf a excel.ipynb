{
 "cells": [
  {
   "cell_type": "code",
   "execution_count": 55,
   "metadata": {},
   "outputs": [],
   "source": [
    "import pandas as pd\n",
    "import pdfplumber\n"
   ]
  },
  {
   "cell_type": "code",
   "execution_count": 56,
   "metadata": {},
   "outputs": [],
   "source": [
    "with pdfplumber.open(\"Remates.pdf\") as pdf:\n",
    "    all_tables = []\n",
    "    for page in pdf.pages:\n",
    "        tables = page.extract_tables()\n",
    "        for table in tables:\n",
    "            all_tables.extend(table)"
   ]
  },
  {
   "cell_type": "code",
   "execution_count": 57,
   "metadata": {},
   "outputs": [],
   "source": [
    "columns = [\"Código\", \"Fecha del remate\", \"Ciudad\", \"Departamento\", \"Tipo de bien\", \"Avaluo remate\", \"Oferta Mínima\"]\n",
    "data = []\n",
    "for row in all_tables[1:]:\n",
    "    if row and len(row) == 8:\n",
    "        data.append(row[:-1])\n",
    "\n",
    "df = pd.DataFrame(data, columns=columns)\n",
    "\n",
    "df.dropna(inplace=True)"
   ]
  },
  {
   "cell_type": "code",
   "execution_count": 58,
   "metadata": {},
   "outputs": [],
   "source": [
    "\n",
    "df[\"Avaluo remate\"] = df[\"Avaluo remate\"].str.replace('.', '').astype(float)\n",
    "df[\"Oferta Mínima\"] = df[\"Oferta Mínima\"].str.replace('.', '').astype(float)\n",
    "\n",
    "# df[\"Fecha del remate\"] = pd.to_datetime(df[\"Fecha del remate\"], format=\"%A, %d de %B de %Y\", errors='coerce')"
   ]
  },
  {
   "cell_type": "code",
   "execution_count": 59,
   "metadata": {},
   "outputs": [],
   "source": [
    "df.to_excel(\"Remates.xlsx\", index=False)"
   ]
  }
 ],
 "metadata": {
  "kernelspec": {
   "display_name": "Python 3",
   "language": "python",
   "name": "python3"
  },
  "language_info": {
   "codemirror_mode": {
    "name": "ipython",
    "version": 3
   },
   "file_extension": ".py",
   "mimetype": "text/x-python",
   "name": "python",
   "nbconvert_exporter": "python",
   "pygments_lexer": "ipython3",
   "version": "3.12.3"
  }
 },
 "nbformat": 4,
 "nbformat_minor": 2
}
