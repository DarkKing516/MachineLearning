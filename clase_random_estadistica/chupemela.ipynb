{
 "cells": [
  {
   "cell_type": "code",
   "execution_count": 47,
   "metadata": {},
   "outputs": [],
   "source": [
    "import pandas as pd\n",
    "import numpy as np\n",
    "\n",
    "import matplotlib.pyplot as plt\n",
    "\n",
    "import statistics as st"
   ]
  },
  {
   "cell_type": "code",
   "execution_count": 48,
   "metadata": {},
   "outputs": [],
   "source": [
    "dataseD = pd.read_excel('Datosestadisticos.xlsx', sheet_name='Cuantitativos_Discretos')"
   ]
  },
  {
   "cell_type": "code",
   "execution_count": 49,
   "metadata": {},
   "outputs": [],
   "source": [
    "dataseC = pd.read_excel('Datosestadisticos.xlsx', sheet_name='Cuantitativos_Continuos')"
   ]
  },
  {
   "cell_type": "code",
   "execution_count": 50,
   "metadata": {},
   "outputs": [
    {
     "name": "stdout",
     "output_type": "stream",
     "text": [
      "Promedio o Media: 77.622\n",
      "Varianza: 58.9242\n",
      "Desviacion estandar: 7.676210002338394\n"
     ]
    }
   ],
   "source": [
    "promedio = dataseC['Peso_Estudiantes'].mean()\n",
    "print(f'Promedio o Media: {promedio}')\n",
    "\n",
    "varianza = dataseC['Peso_Estudiantes'].var()\n",
    "print(f'Varianza: {varianza}')\n",
    "\n",
    "desviacion_estandar = dataseC['Peso_Estudiantes'].std()\n",
    "print(f'Desviacion estandar: {desviacion_estandar}')\n",
    "\n",
    "# desviacion = st.stdev(dataseC['Peso_Estudiantes'])\n",
    "# print(f'Desviacion estandar: {desviacion}')"
   ]
  },
  {
   "cell_type": "code",
   "execution_count": 51,
   "metadata": {},
   "outputs": [
    {
     "name": "stdout",
     "output_type": "stream",
     "text": [
      "Promedio o Media: 38.04\n",
      "Varianza: 9.957551020408163\n",
      "Desviacion estandar: 3.1555587493197086\n"
     ]
    }
   ],
   "source": [
    "promedio = dataseD['Talla_Zapatos'].mean()\n",
    "print(f'Promedio o Media: {promedio}')\n",
    "\n",
    "varianza = dataseD['Talla_Zapatos'].var()\n",
    "print(f'Varianza: {varianza}')\n",
    "\n",
    "desviacion_estandar = dataseD['Talla_Zapatos'].std()\n",
    "print(f'Desviacion estandar: {desviacion_estandar}')\n",
    "\n",
    "# desviacion = st.stdev(dataseD['Talla_Zapatos'])\n",
    "# print(f'Desviacion estandar: {desviacion}')"
   ]
  },
  {
   "cell_type": "code",
   "execution_count": 52,
   "metadata": {},
   "outputs": [
    {
     "name": "stdout",
     "output_type": "stream",
     "text": [
      "Cuartil 1 (Q1): 36.0\n",
      "Cuartil 2 (Q2) o Mediana: 38.0\n",
      "Cuartil 3 (Q3): 40.0\n",
      "\n",
      "\n",
      "Percentil 10: 33.0\n",
      "Percentil 25 (Q1): 36.0\n",
      "Percentil 50 (Q2) o Mediana: 38.0\n",
      "Percentil 75 (Q3): 40.0\n",
      "Percentil 90: 42.0\n"
     ]
    }
   ],
   "source": [
    "# Calcular los cuartiles\n",
    "cuartil_1 = dataseD['Talla_Zapatos'].quantile(0.25)\n",
    "cuartil_2 = dataseD['Talla_Zapatos'].quantile(0.50)  # También es la mediana\n",
    "cuartil_3 = dataseD['Talla_Zapatos'].quantile(0.75)\n",
    "\n",
    "print(f'Cuartil 1 (Q1): {cuartil_1}')\n",
    "print(f'Cuartil 2 (Q2) o Mediana: {cuartil_2}')\n",
    "print(f'Cuartil 3 (Q3): {cuartil_3}')\n",
    "print('\\n')\n",
    "# Calcular los percentiles\n",
    "percentil_10 = dataseD['Talla_Zapatos'].quantile(0.1)\n",
    "percentil_25 = dataseD['Talla_Zapatos'].quantile(0.25)  # También es el cuartil 1 (Q1)\n",
    "percentil_50 = dataseD['Talla_Zapatos'].quantile(0.5)  # También es la mediana (Q2)\n",
    "percentil_75 = dataseD['Talla_Zapatos'].quantile(0.75)  # También es el cuartil 3 (Q3)\n",
    "percentil_90 = dataseD['Talla_Zapatos'].quantile(0.9)\n",
    "\n",
    "print(f'Percentil 10: {percentil_10}')\n",
    "print(f'Percentil 25 (Q1): {percentil_25}')\n",
    "print(f'Percentil 50 (Q2) o Mediana: {percentil_50}')\n",
    "print(f'Percentil 75 (Q3): {percentil_75}')\n",
    "print(f'Percentil 90: {percentil_90}')"
   ]
  }
 ],
 "metadata": {
  "kernelspec": {
   "display_name": ".venv",
   "language": "python",
   "name": "python3"
  },
  "language_info": {
   "codemirror_mode": {
    "name": "ipython",
    "version": 3
   },
   "file_extension": ".py",
   "mimetype": "text/x-python",
   "name": "python",
   "nbconvert_exporter": "python",
   "pygments_lexer": "ipython3",
   "version": "3.12.2"
  }
 },
 "nbformat": 4,
 "nbformat_minor": 2
}
